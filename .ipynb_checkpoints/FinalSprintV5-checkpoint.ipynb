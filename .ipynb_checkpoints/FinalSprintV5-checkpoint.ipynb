{
 "cells": [
  {
   "cell_type": "markdown",
   "id": "2e50dddd",
   "metadata": {},
   "source": [
    "# Codenames"
   ]
  },
  {
   "cell_type": "code",
   "execution_count": 1,
   "id": "53336727",
   "metadata": {},
   "outputs": [
    {
     "name": "stdout",
     "output_type": "stream",
     "text": [
      "2.0.1\n",
      "1.20.3\n",
      "4.60.4\n"
     ]
    },
    {
     "name": "stderr",
     "output_type": "stream",
     "text": [
      "[nltk_data] Downloading package wordnet to C:\\Users\\Husein\n",
      "[nltk_data]     Ghadiali\\AppData\\Roaming\\nltk_data...\n",
      "[nltk_data]   Package wordnet is already up-to-date!\n"
     ]
    },
    {
     "name": "stdout",
     "output_type": "stream",
     "text": [
      "pygame 2.3.0 (SDL 2.24.2, Python 3.8.8)\n",
      "Hello from the pygame community. https://www.pygame.org/contribute.html\n"
     ]
    }
   ],
   "source": [
    "import pandas as pd\n",
    "print(pd.__version__)\n",
    "import numpy as np\n",
    "print(np.__version__)\n",
    "import random\n",
    "import PySimpleGUI as sg\n",
    "print(sg.__version__)\n",
    "import pickle\n",
    "from scipy.spatial.distance import cdist\n",
    "from nltk.stem import WordNetLemmatizer\n",
    "from nltk.corpus import wordnet\n",
    "import nltk\n",
    "nltk.download('wordnet')\n",
    "import pickle\n",
    "import string\n",
    "from scipy.spatial.distance import cosine\n",
    "from sklearn.metrics.pairwise import cosine_similarity\n",
    "from spellchecker import SpellChecker\n",
    "import pygame\n",
    "pygame.version.ver\n",
    "from collections import Counter\n",
    "import itertools\n",
    "from moviepy.editor import *\n",
    "import threading\n",
    "import pyautogui"
   ]
  },
  {
   "cell_type": "code",
   "execution_count": 2,
   "id": "7d4350d6",
   "metadata": {},
   "outputs": [],
   "source": [
    "# Load the words list from the file\n",
    "with open('words.pkl', 'rb') as f:\n",
    "    words = pickle.load(f)"
   ]
  },
  {
   "cell_type": "code",
   "execution_count": 3,
   "id": "8ecb000b",
   "metadata": {},
   "outputs": [],
   "source": [
    "def generate_new_words(words):\n",
    "    random_words = list(words)\n",
    "    random.shuffle(random_words)\n",
    "    blue_team = random.sample(random_words, 8)\n",
    "    red_team = random.sample(set(random_words) - set(blue_team), 8)\n",
    "    civilians = random.sample(set(random_words) - set(blue_team) - set(red_team), 8)\n",
    "    assassin = random.sample(set(random_words) - set(blue_team) - set(red_team) - set(civilians), 1)\n",
    "    codenames = blue_team + red_team + civilians + assassin\n",
    "    random.shuffle(codenames)\n",
    "    return codenames, blue_team, red_team, civilians, assassin"
   ]
  },
  {
   "cell_type": "code",
   "execution_count": 4,
   "id": "7ae870fe",
   "metadata": {
    "scrolled": true
   },
   "outputs": [],
   "source": [
    "# Generate words\n",
    "codenames, blue_team, red_team, civilians, assassin = generate_new_words(words)"
   ]
  },
  {
   "cell_type": "code",
   "execution_count": 5,
   "id": "0f0f3f12",
   "metadata": {},
   "outputs": [],
   "source": [
    "# Make a copy of the codenames and blue team lists\n",
    "codenames1 = codenames.copy()\n",
    "codenames2 = codenames.copy()\n",
    "blue_team1 = blue_team.copy()"
   ]
  },
  {
   "cell_type": "code",
   "execution_count": 6,
   "id": "84d333c0",
   "metadata": {},
   "outputs": [],
   "source": [
    "# Initialize the mixer module\n",
    "pygame.mixer.init()"
   ]
  },
  {
   "cell_type": "code",
   "execution_count": 7,
   "id": "7b9d0076",
   "metadata": {},
   "outputs": [],
   "source": [
    "# Load the sound effects\n",
    "click_sound = pygame.mixer.Sound('button.wav')\n",
    "score_sound = pygame.mixer.Sound('score.wav')\n",
    "end_game_sound = pygame.mixer.Sound('assassin.wav')\n",
    "win_sound = pygame.mixer.Sound('win.wav')"
   ]
  },
  {
   "cell_type": "code",
   "execution_count": 8,
   "id": "9e3fe5e9",
   "metadata": {},
   "outputs": [],
   "source": [
    "with open('gloveupdated1.pkl', 'rb') as f:\n",
    "    glove = pickle.load(f)"
   ]
  },
  {
   "cell_type": "code",
   "execution_count": 9,
   "id": "58358ca6",
   "metadata": {},
   "outputs": [],
   "source": [
    "wnl = WordNetLemmatizer()"
   ]
  },
  {
   "cell_type": "code",
   "execution_count": 10,
   "id": "078c7410",
   "metadata": {},
   "outputs": [],
   "source": [
    "def is_plural(word):\n",
    "    singular = wnl.lemmatize(word, pos=wordnet.NOUN)\n",
    "    return singular != word"
   ]
  },
  {
   "cell_type": "code",
   "execution_count": 11,
   "id": "2d290ffa",
   "metadata": {},
   "outputs": [],
   "source": [
    "def has_punctuation(word):\n",
    "    return any(char in string.punctuation for char in word)"
   ]
  },
  {
   "cell_type": "code",
   "execution_count": 12,
   "id": "f7f492b1",
   "metadata": {},
   "outputs": [],
   "source": [
    "def find_most_similar_and_order(user_clue, num_words, codenames, glove):\n",
    "    # Calculate the cosine similarity between the user_clue word and each word in the codenames list\n",
    "    similarity_scores = []\n",
    "    for word in codenames:\n",
    "        if word in glove:\n",
    "            try:\n",
    "                similarity_score = np.dot(glove[user_clue], glove[word]) / (np.linalg.norm(glove[user_clue]) * np.linalg.norm(glove[word]))\n",
    "                similarity_scores.append(similarity_score)\n",
    "            except KeyError:\n",
    "                # Update the '-USER_CLUE-' element with a message\n",
    "                window['-USER_CLUE-'].update(\"Sorry this word does not exist. Try again!\")\n",
    "                return []\n",
    "        else:\n",
    "            similarity_scores.append(-0.5) # assign a default similarity score for out-of-vocabulary words\n",
    "\n",
    "    # Order the word list based on the cosine similarity scores\n",
    "    ordered_word_list = [word for _, word in sorted(zip(similarity_scores, codenames), reverse=True)]\n",
    "\n",
    "    return ordered_word_list[:num_words]\n"
   ]
  },
  {
   "cell_type": "code",
   "execution_count": 13,
   "id": "fe718157",
   "metadata": {},
   "outputs": [],
   "source": [
    "game_state = {\n",
    "    'blue_score': 0,\n",
    "    'red_score': 0,\n",
    "}"
   ]
  },
  {
   "cell_type": "code",
   "execution_count": 14,
   "id": "14b1c9fc",
   "metadata": {},
   "outputs": [
    {
     "data": {
      "text/plain": [
       "'LightBrown4'"
      ]
     },
     "execution_count": 14,
     "metadata": {},
     "output_type": "execute_result"
    }
   ],
   "source": [
    "# All themes available in PySimpleGUI\n",
    "themes = sg.theme_list()\n",
    "# Randomly generating a theme for the game\n",
    "theme = random.choice(themes)\n",
    "sg.theme(theme)\n"
   ]
  },
  {
   "cell_type": "code",
   "execution_count": 15,
   "id": "9c934cef",
   "metadata": {},
   "outputs": [
    {
     "data": {
      "text/plain": [
       "True"
      ]
     },
     "execution_count": 15,
     "metadata": {},
     "output_type": "execute_result"
    }
   ],
   "source": [
    "sg.set_options(font=('arcadeclassic', 16))"
   ]
  },
  {
   "cell_type": "code",
   "execution_count": 16,
   "id": "3f1f6494",
   "metadata": {},
   "outputs": [],
   "source": [
    "spell = SpellChecker()"
   ]
  },
  {
   "cell_type": "code",
   "execution_count": 17,
   "id": "d64c4910",
   "metadata": {},
   "outputs": [],
   "source": [
    "def generate_clue(blue_team_words, glove, topn=10):\n",
    "    target_word = random.choice(blue_team_words)\n",
    "    \n",
    "    # Find the most similar words to the target word\n",
    "    if target_word not in glove:\n",
    "        most_similar_words = []\n",
    "    else:\n",
    "        target_word_vector = glove[target_word]\n",
    "        glove_filtered = {k: v for k, v in glove.items() if v.shape == target_word_vector.shape}\n",
    "        distances = cdist(target_word_vector.reshape(1,-1), np.vstack(list(glove_filtered.values())), 'cosine')[0]\n",
    "        sorted_distances = np.argsort(distances)\n",
    "        closest_words = [list(glove_filtered.keys())[i] for i in sorted_distances[:topn+1]]\n",
    "        most_similar_words = [w for w in closest_words if w != target_word and not is_plural(w) and not w.endswith('ing') and not w.endswith('ed') and not has_punctuation(w)][:topn]\n",
    "    \n",
    "    most_similar_word = random.choice(most_similar_words)\n",
    "    clue = f\"{most_similar_word.title()}\"\n",
    "    # Calculate the number of words on the game board that are similar to the most_similar_word\n",
    "    num_words = 1\n",
    "    for word in most_similar_words:\n",
    "        ordered_words = find_most_similar_and_order(word, topn, blue_team_words, glove)\n",
    "        if most_similar_word in ordered_words:\n",
    "            num_words += 1\n",
    "    return clue, num_words"
   ]
  },
  {
   "cell_type": "code",
   "execution_count": 18,
   "id": "6d2c26fa",
   "metadata": {},
   "outputs": [],
   "source": [
    "blue_team_words = blue_team.copy()\n",
    "global clue, num_words"
   ]
  },
  {
   "cell_type": "code",
   "execution_count": 19,
   "id": "bd884909",
   "metadata": {},
   "outputs": [],
   "source": [
    "def generate_clue_thread():\n",
    "    clue, num_words = generate_clue(blue_team_words, glove)"
   ]
  },
  {
   "cell_type": "code",
   "execution_count": 20,
   "id": "33d93c55",
   "metadata": {},
   "outputs": [],
   "source": [
    "# Start a thread to run the calculate_similar_words function\n",
    "t = threading.Thread(target=generate_clue_thread)\n",
    "t.start()"
   ]
  },
  {
   "cell_type": "code",
   "execution_count": 21,
   "id": "a78ca8c4",
   "metadata": {},
   "outputs": [],
   "source": [
    "# Load and play the video\n",
    "clip = VideoFileClip('Codenamesloading.mp4')"
   ]
  },
  {
   "cell_type": "code",
   "execution_count": 22,
   "id": "3cf802ec",
   "metadata": {},
   "outputs": [],
   "source": [
    "# Resize the video to 50% of the screen resolution\n",
    "screen_width, screen_height = clip.size\n",
    "clip_resized = clip.resize((screen_width // 2, screen_height // 2))"
   ]
  },
  {
   "cell_type": "code",
   "execution_count": 23,
   "id": "51b0d6a4",
   "metadata": {},
   "outputs": [],
   "source": [
    "# Loop the video until the calculate_similar_words thread is done\n",
    "while t.is_alive():\n",
    "    clip_resized.preview()"
   ]
  },
  {
   "cell_type": "code",
   "execution_count": 24,
   "id": "cc96ea2b",
   "metadata": {},
   "outputs": [],
   "source": [
    "# Defining Custom tile colors\n",
    "custom_color_red = ('#6c757d', '#d00000')\n",
    "custom_color_blue = ('#6c757d', 'blue')\n",
    "custom_color_civilians = ('#6c757d','#D3D3D3')\n",
    "custom_color_assassin = ('#6c757d', '#000000')"
   ]
  },
  {
   "cell_type": "code",
   "execution_count": 25,
   "id": "3c3e069c",
   "metadata": {},
   "outputs": [],
   "source": [
    "def change_color(button):\n",
    "    word = button.get_text()\n",
    "    if word in blue_team:\n",
    "        button.update(button_color = custom_color_blue)\n",
    "        game_state['blue_score'] += 1\n",
    "        window['blue_score'].update(game_state['blue_score'])\n",
    "        score_sound.play()\n",
    "        if game_state['blue_score'] == 8:\n",
    "            end_game(\"blue\")\n",
    "    elif word in red_team:\n",
    "        button.update(button_color = custom_color_red)\n",
    "        game_state['red_score'] += 1\n",
    "        window['red_score'].update(game_state['red_score'])\n",
    "        click_sound.play()\n",
    "        if game_state['red_score'] == 8:\n",
    "            end_game(\"red\")\n",
    "    elif word in civilians:\n",
    "        button.update(button_color = custom_color_civilians)\n",
    "        click_sound.play()\n",
    "    else:\n",
    "        button.update(button_color = custom_color_assassin)\n",
    "        window['-GAME_OVER-'].update(f\"GAME OVER\")\n",
    "        # End the game if the assassin word is clicked\n",
    "        for i in range(5):\n",
    "            for j in range(5):\n",
    "                button = window[(i, j)]\n",
    "                button.update(disabled=True)\n",
    "        end_game_sound.play()\n",
    "\n",
    "def end_game(winner):\n",
    "    # Disable all buttons and display the winner\n",
    "    for i in range(5):\n",
    "        for j in range(5):\n",
    "            button = window[(i, j)]\n",
    "            button.update(disabled=True)\n",
    "    window['-GAME_OVER-'].update(f\"{winner.upper()} TEAM WINS!\")\n",
    "    win_sound.play()"
   ]
  },
  {
   "cell_type": "code",
   "execution_count": 26,
   "id": "8ba5e1b0",
   "metadata": {},
   "outputs": [],
   "source": [
    "def create_windows(codenames1, codenames2, blue_team, red_team, civilians):\n",
    "    user_clue = sg.Text('', key=\"-USER_CLUE-\", font=('arcadeclassic', 18))\n",
    "    print_clue = sg.Text('', key=\"-COMPUTER_CLUE-\", font=('arcadeclassic', 18))\n",
    "    num_words_str = sg.Text('', key=\"-NUM_WORDS-\", font=('arcadeclassic', 18))\n",
    "    game_over = [sg.Text('', key=\"-GAME_OVER-\", font = ('arcadeclassic', 30))]\n",
    "    \n",
    "    left = [\n",
    "        [sg.Text('User Clue: ', font=('arcadeclassic', 16)), sg.InputText(key=\"-USER_CLUE_INPUT-\", size = (10,2), pad = (10,0,0,10))],\n",
    "        [sg.Text('Enter Number: ', font=('arcadeclassic', 16)), sg.InputText(key=\"-NUM_WORDS_INPUT-\", size = (10,2), pad = (10,0,0,10))],\n",
    "        [user_clue],\n",
    "        [num_words_str],\n",
    "        [sg.Column([[sg.Button('Submit Clue', font=('arcadeclassic', 16))]])]   \n",
    "    ]\n",
    "\n",
    "    center = [\n",
    "        [sg.Text('Blue Score:', font=('arcadeclassic', 16)), sg.Text(game_state['blue_score'], key='blue_score', font=('arcadeclassic', 16))],\n",
    "        [sg.Text('Red Score:', font=('arcadeclassic', 16)), sg.Text(game_state['red_score'], key='red_score', font=('arcadeclassic', 16))]\n",
    "    ]\n",
    "    \n",
    "    right = [\n",
    "        [sg.Text('Computer Clue: ', font=('arcadeclassic', 16))],\n",
    "        [print_clue],\n",
    "        [sg.Column([[sg.Button('Next Clue', font=('arcadeclassic', 16))]])]\n",
    "    ]\n",
    "    \n",
    "\n",
    "    layout = [\n",
    "        [sg.Column(left, element_justification='left'),\n",
    "         sg.Column(center, element_justification='center'),\n",
    "         sg.Column(right, element_justification='right')],\n",
    "    ]\n",
    "    \n",
    "    codenames_iter = itertools.cycle(codenames1)\n",
    "\n",
    "    for i in range(5):\n",
    "        row = []\n",
    "        for j in range(5):\n",
    "            word = next(codenames_iter)\n",
    "            row.append(sg.Button(word, key=(i, j), size=(12, 2), font=('arcadeclassic', 12)))\n",
    "        layout.append(row)\n",
    "    \n",
    "    button_row = [\n",
    "        sg.Button('Exit'), \n",
    "        sg.Button('Restart'),\n",
    "        sg.Text('WE ARE ON THE BLUE TEAM', font=('arcadeclassic', 16), text_color='Blue', pad = (0,10,10,100))\n",
    "    ]\n",
    "\n",
    "    layout.append(button_row)\n",
    "    \n",
    "    layout.append(game_over)\n",
    "     \n",
    "    #Layout2\n",
    "    \n",
    "    codenames_iter2 = itertools.cycle(codenames2)\n",
    "    \n",
    "    layout2 = []\n",
    "    for i in range(5):\n",
    "        row2 = []\n",
    "        for j in range(5):\n",
    "            word = next(codenames_iter2)\n",
    "            if word in blue_team:\n",
    "                button_color=('blue', 'blue')\n",
    "            elif word in red_team:\n",
    "                button_color=('red', 'red')\n",
    "            elif word in civilians:\n",
    "                button_color=('gray', 'gray')\n",
    "            else:\n",
    "                button_color=('black', 'black')\n",
    "            row2.append(sg.Button(key=(i, j), button_color = button_color, size=(4, 2)))\n",
    "        layout2.append(row2)\n",
    "    \n",
    "    screen_width, screen_height = sg.Window.get_screen_size()\n",
    "    window = sg.Window('Codenames Matrix', layout, size=(screen_width // 2, screen_height // 1))\n",
    "    window2 = sg.Window('Codemaster Matrix', layout2, size=(screen_width // 2, screen_height // 2), finalize=True)\n",
    "    \n",
    "    return window, window2"
   ]
  },
  {
   "cell_type": "code",
   "execution_count": 27,
   "id": "ecdcb77c",
   "metadata": {},
   "outputs": [],
   "source": [
    "window, window2 = create_windows(codenames1, codenames2, blue_team, red_team, civilians)"
   ]
  },
  {
   "cell_type": "code",
   "execution_count": null,
   "id": "21fcdeaf",
   "metadata": {},
   "outputs": [],
   "source": [
    "while True:\n",
    "    event2, values2 = window2.read(timeout=100)\n",
    "    if event2 == sg.WINDOW_CLOSED:\n",
    "        break\n",
    "    event, values = window.read()\n",
    "    if event in (None, 'Exit'):\n",
    "        break\n",
    "     # Exit button\n",
    "    if event == 'Exit' or event == sg.WIN_CLOSED:\n",
    "        break\n",
    "    # Restart button\n",
    "    if event == 'Restart':\n",
    "        # Reset the game state\n",
    "        game_state = {\n",
    "            'blue_score': 0,\n",
    "            'red_score': 0,\n",
    "        }\n",
    "\n",
    "        # Generate new words\n",
    "        codenames, blue_team, red_team, civilians, assassin = generate_new_words(words)\n",
    "        codenames1 = codenames.copy()\n",
    "        codenames2 = codenames.copy()\n",
    "        blue_team1 = blue_team.copy()\n",
    "\n",
    "         # Update the blue_team_words list with the new blue team words\n",
    "        blue_team_words = blue_team.copy()\n",
    "\n",
    "        # Close and recreate the windows\n",
    "        window.close()\n",
    "        window2.close()\n",
    "\n",
    "        # All themes available in PySimpleGUI\n",
    "        themes = sg.theme_list()\n",
    "        theme = random.choice(themes)\n",
    "        sg.theme(theme)\n",
    "        window, window2 = create_windows(codenames1, codenames2, blue_team, red_team, civilians)\n",
    "    elif event == 'Submit Clue':\n",
    "        user_clue = values[\"-USER_CLUE_INPUT-\"].lower()\n",
    "        # Check if the user's input word is spelled correctly\n",
    "        misspelled = spell.unknown([user_clue])\n",
    "        if misspelled:\n",
    "            # Get the most likely correction\n",
    "            correction = spell.correction(user_clue)\n",
    "            # Replace the user's input word with the correction\n",
    "            user_clue = correction\n",
    "        window[\"-USER_CLUE-\"].update(user_clue)\n",
    "        num_words_str = values[\"-NUM_WORDS_INPUT-\"]\n",
    "        window[\"-NUM_WORDS-\"].update(num_words_str)\n",
    "        try:\n",
    "            num_words = int(num_words_str)  # convert the value to an integer\n",
    "        except ValueError:\n",
    "            num_words = 0\n",
    "        comp_guess = find_most_similar_and_order(user_clue, num_words, codenames, glove)\n",
    "        for i in range(5):\n",
    "            for j in range(5):\n",
    "                button = window[(i, j)]\n",
    "                if num_words == 0:\n",
    "                    window['-USER_CLUE-'].update(f\"Please Enter Valid Clue\")\n",
    "                else:\n",
    "                    for word in comp_guess[:num_words]:\n",
    "                        if game_state['blue_score'] == 8:\n",
    "                            end_game('blue')\n",
    "                        elif game_state['red_score'] == 8:\n",
    "                            end_game('red')    \n",
    "                        elif word == button.get_text():\n",
    "                            change_color(button)\n",
    "                            if word in blue_team:\n",
    "                                codenames.remove(word)\n",
    "                                blue_team_words.remove(word)\n",
    "                            elif word in red_team:\n",
    "                                codenames.remove(word)\n",
    "                            elif word in civilians:\n",
    "                                codenames.remove(word)\n",
    "                            else:\n",
    "                                pass\n",
    "                        else:\n",
    "                            pass\n",
    "    elif event == 'Next Clue':\n",
    "        if len(blue_team_words) != 0:\n",
    "            clue, num_words = generate_clue(blue_team_words, glove)\n",
    "            window[\"-COMPUTER_CLUE-\"].update(clue)\n",
    "            window[\"-NUM_WORDS-\"].update(num_words)\n",
    "        else:\n",
    "            pass\n",
    "    elif isinstance(event, tuple): # Check if a button was clicked\n",
    "        button = window[event]\n",
    "        change_color(button)\n",
    "        word = button.get_text()\n",
    "        if word in blue_team:\n",
    "            blue_team_words.remove(word)\n",
    "            click_sound.play()\n",
    "            if len(blue_team_words) == 0:\n",
    "                pass"
   ]
  },
  {
   "cell_type": "code",
   "execution_count": null,
   "id": "4525a3b7",
   "metadata": {},
   "outputs": [],
   "source": [
    "window.close()\n",
    "window2.close()"
   ]
  }
 ],
 "metadata": {
  "kernelspec": {
   "display_name": "Python 3",
   "language": "python",
   "name": "python3"
  },
  "language_info": {
   "codemirror_mode": {
    "name": "ipython",
    "version": 3
   },
   "file_extension": ".py",
   "mimetype": "text/x-python",
   "name": "python",
   "nbconvert_exporter": "python",
   "pygments_lexer": "ipython3",
   "version": "3.8.8"
  }
 },
 "nbformat": 4,
 "nbformat_minor": 5
}
